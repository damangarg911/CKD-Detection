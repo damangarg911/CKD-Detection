{
 "cells": [
  {
   "cell_type": "code",
   "execution_count": 3,
   "metadata": {},
   "outputs": [],
   "source": [
    "\n",
    "import optuna # type: ignore\n",
    "\n",
    "MODEL_NAME='MyModel' #the name of the class in models.py you want to tune\n",
    "OPTIMIZERS=['AdamW'] #the list of optimizers to sample from\n",
    "MAX_EPOCHS=250 #the max number of epochs to train for each hyperparameter combination\n",
    "METRIC='roc_auc' #the metric to optimize for across trials, also used for early stopping within a trial and pruning across trials, full list of possible values in tuningfunctions.Objective\n",
    "MIN_LR=0.001# 0.0045142561086695 #the mininum learning rate to sample from on a log scale\n",
    "MAX_LR=0.001#0.00011# 0.004514256108669504 #the maximum learning rate to sample from on a log scale\n",
    "PATIENCE=100 #the early stopping patience, can be set to None\n",
    "SCHEDULER=False #bool for whether to use the learning rate scheduler\n",
    "STEP=1 #the learning rate scheduler step size, if SCHEDULER=True, cannot be None\n",
    "GAMMA=0.985 #the learning rate gamma, if SHCEDULER=True, cannot be None\n",
    "\n",
    "PRUNER=optuna.pruners.NopPruner() #the optuna pruner to use across trials\n",
    "NUM_TRIALS=5 #the number of different hyperparameter combination to try\n",
    "DIRECTION='maximize' #the direction of the metric to optimize towards ex: 'loss' = 'minimize', 'roc_auc' = 'maximize'\n",
    "\n",
    "## MyModel specific parameters\n",
    "INITIAL_KERNEL_NUM = [4,8,16,32,64]\n",
    "MIN_DROPOUT = 0\n",
    "MAX_DROPOUT = 1\n",
    "CONV1_KERNEL1 = [7,21]\n",
    "CONV1_KERNEL2 = [1,3]"
   ]
  }
 ],
 "metadata": {
  "kernelspec": {
   "display_name": "DL",
   "language": "python",
   "name": "python3"
  },
  "language_info": {
   "codemirror_mode": {
    "name": "ipython",
    "version": 3
   },
   "file_extension": ".py",
   "mimetype": "text/x-python",
   "name": "python",
   "nbconvert_exporter": "python",
   "pygments_lexer": "ipython3",
   "version": "3.11.8"
  }
 },
 "nbformat": 4,
 "nbformat_minor": 2
}
