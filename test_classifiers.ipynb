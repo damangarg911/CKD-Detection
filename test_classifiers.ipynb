{
 "cells": [
  {
   "cell_type": "code",
   "execution_count": 13,
   "metadata": {},
   "outputs": [],
   "source": [
    "root = '/Users/damangarg/Documents/VS_Code/AI'\n",
    "test_csv = '/Users/damangarg/Documents/VS_Code/AI/Test/csv_result-chronic_kidney_disease_full.csv'\n",
    "num_dataloader_workers = 8\n",
    "batch_size = 400\n",
    "target='class'"
   ]
  },
  {
   "cell_type": "code",
   "execution_count": 14,
   "metadata": {},
   "outputs": [],
   "source": [
    "import numpy as np\n",
    "from paths import FilePaths\n",
    "from tuningfunctions import get_data_loaders, get_criterion, Objective, run_trials\n",
    "import models\n",
    "import torch\n",
    "import pandas as pd\n",
    "import matplotlib.pyplot as plt\n",
    "from ECG import EchoECG\n",
    "from tqdm import tqdm\n",
    "import sklearn\n",
    "base = './'\n",
    "import pickle"
   ]
  },
  {
   "cell_type": "code",
   "execution_count": 15,
   "metadata": {},
   "outputs": [],
   "source": [
    "def test_model(one_lead=False):\n",
    "    torch.mps.empty_cache()\n",
    "\n",
    "    if(one_lead):\n",
    "        model = models.EffNet(channels = [32,16,24,40,80,112,192,320,1280,1],dilation = 2,\n",
    "                                  stride = 8,\n",
    "                                  reg = False, \n",
    "                                  start_channels=1)\n",
    "        with open('CKDModel_pickle', 'rb') as f:\n",
    "            model = pickle.load(f)\n",
    "        #model.load_state_dict(torch.load('Users/damangarg/Documents/VS_Code/AI/CKDscreening', map_location=torch.device('cpu'),Model_pickle='one_lead_weights.pt'))\n",
    "        \n",
    "        model.load_state_dict(torch.load(base+'one_lead_weights.pt'))\n",
    "    else:\n",
    "        model = models.EffNet(channels = [32,16,24,40,80,112,192,320,1280,1],dilation = 2,\n",
    "                                  stride = 8,\n",
    "                                  reg = False, \n",
    "                                  start_channels=12)\n",
    "        with open('CKDModel_pickle', 'rb') as f:\n",
    "            model = pickle.load(f)\n",
    "        #model.load_state_dict(torch.load('Users/damangarg/Documents/VS_Code/AI/CKDscreening', map_location=torch.device('cpu'),Model_pickle='twelve_lead_weights.pt'))\n",
    "        model.load_state_dict(torch.load(base+'twelve_lead_weights.pt'))\n",
    "    model.eval()\n",
    "    test_ds = EchoECG(root=root,\n",
    "                      csv=test_csv,\n",
    "                      model='RCRI_Net', \n",
    "                      rolling=0, \n",
    "                      downsample=1,\n",
    "                      target=target, \n",
    "                      one_lead=one_lead,\n",
    "                      return_filename=False)\n",
    "    print('test_ds')\n",
    "\n",
    "    test_dataloader = torch.utils.data.DataLoader(test_ds,\n",
    "                                                  batch_size=batch_size, \n",
    "                                                  num_workers=num_dataloader_workers,\n",
    "                                                  drop_last=False)\n",
    "    all_labels = []\n",
    "    all_preds = []\n",
    "    with torch.no_grad():\n",
    "        for ecg, labels in tqdm(test_dataloader):\n",
    "\n",
    "            all_preds += list(model(ecg))\n",
    "            all_labels += list(labels)\n",
    "            \n",
    "    return all_labels, all_preds"
   ]
  },
  {
   "cell_type": "code",
   "execution_count": 20,
   "metadata": {},
   "outputs": [
    {
     "ename": "AttributeError",
     "evalue": "Can't get attribute 'Mayo_Net_mortality' on <module '__main__'>",
     "output_type": "error",
     "traceback": [
      "\u001b[0;31m---------------------------------------------------------------------------\u001b[0m",
      "\u001b[0;31mAttributeError\u001b[0m                            Traceback (most recent call last)",
      "Cell \u001b[0;32mIn[20], line 2\u001b[0m\n\u001b[1;32m      1\u001b[0m \u001b[38;5;28;01mwith\u001b[39;00m \u001b[38;5;28mopen\u001b[39m(\u001b[38;5;124m'\u001b[39m\u001b[38;5;124mCKDModel_pickle\u001b[39m\u001b[38;5;124m'\u001b[39m, \u001b[38;5;124m'\u001b[39m\u001b[38;5;124mrb\u001b[39m\u001b[38;5;124m'\u001b[39m) \u001b[38;5;28;01mas\u001b[39;00m f:\n\u001b[0;32m----> 2\u001b[0m      model \u001b[38;5;241m=\u001b[39m \u001b[43mpickle\u001b[49m\u001b[38;5;241;43m.\u001b[39;49m\u001b[43mload\u001b[49m\u001b[43m(\u001b[49m\u001b[43mf\u001b[49m\u001b[43m)\u001b[49m\n\u001b[1;32m      3\u001b[0m  \u001b[38;5;66;03m#model.load_state_dict(torch.load('Users/damangarg/Documents/VS_Code/AI/CKDscreening', map_location=torch.device('cpu'),Model_pickle='one_lead_weights.pt'))\u001b[39;00m\n",
      "\u001b[0;31mAttributeError\u001b[0m: Can't get attribute 'Mayo_Net_mortality' on <module '__main__'>"
     ]
    }
   ],
   "source": [
    "       with open('CKDModel_pickle', 'rb') as f:\n",
    "            model = pickle.load(f)\n",
    "        #model.load_state_dict(torch.load('Users/damangarg/Documents/VS_Code/AI/CKDscreening', map_location=torch.device('cpu'),Model_pickle='one_lead_weights.pt'))"
   ]
  },
  {
   "cell_type": "code",
   "execution_count": 16,
   "metadata": {},
   "outputs": [
    {
     "name": "stdout",
     "output_type": "stream",
     "text": [
      "depth  [1, 2, 2, 3, 3, 3, 3]\n"
     ]
    },
    {
     "ename": "AttributeError",
     "evalue": "Can't get attribute 'Mayo_Net_mortality' on <module '__main__'>",
     "output_type": "error",
     "traceback": [
      "\u001b[0;31m---------------------------------------------------------------------------\u001b[0m",
      "\u001b[0;31mAttributeError\u001b[0m                            Traceback (most recent call last)",
      "Cell \u001b[0;32mIn[16], line 1\u001b[0m\n\u001b[0;32m----> 1\u001b[0m all_labels, all_preds \u001b[38;5;241m=\u001b[39m \u001b[43mtest_model\u001b[49m\u001b[43m(\u001b[49m\u001b[43mone_lead\u001b[49m\u001b[38;5;241;43m=\u001b[39;49m\u001b[38;5;28;43;01mTrue\u001b[39;49;00m\u001b[43m)\u001b[49m\n\u001b[1;32m      2\u001b[0m fpr, tpr, thresholds \u001b[38;5;241m=\u001b[39m sklearn\u001b[38;5;241m.\u001b[39mmetrics\u001b[38;5;241m.\u001b[39mroc_curve(all_labels, all_preds) \n\u001b[1;32m      3\u001b[0m \u001b[38;5;28mprint\u001b[39m(\u001b[38;5;124m'\u001b[39m\u001b[38;5;124m \u001b[39m\u001b[38;5;124m'\u001b[39m)\n",
      "Cell \u001b[0;32mIn[15], line 10\u001b[0m, in \u001b[0;36mtest_model\u001b[0;34m(one_lead)\u001b[0m\n\u001b[1;32m      5\u001b[0m model \u001b[38;5;241m=\u001b[39m models\u001b[38;5;241m.\u001b[39mEffNet(channels \u001b[38;5;241m=\u001b[39m [\u001b[38;5;241m32\u001b[39m,\u001b[38;5;241m16\u001b[39m,\u001b[38;5;241m24\u001b[39m,\u001b[38;5;241m40\u001b[39m,\u001b[38;5;241m80\u001b[39m,\u001b[38;5;241m112\u001b[39m,\u001b[38;5;241m192\u001b[39m,\u001b[38;5;241m320\u001b[39m,\u001b[38;5;241m1280\u001b[39m,\u001b[38;5;241m1\u001b[39m],dilation \u001b[38;5;241m=\u001b[39m \u001b[38;5;241m2\u001b[39m,\n\u001b[1;32m      6\u001b[0m                           stride \u001b[38;5;241m=\u001b[39m \u001b[38;5;241m8\u001b[39m,\n\u001b[1;32m      7\u001b[0m                           reg \u001b[38;5;241m=\u001b[39m \u001b[38;5;28;01mFalse\u001b[39;00m, \n\u001b[1;32m      8\u001b[0m                           start_channels\u001b[38;5;241m=\u001b[39m\u001b[38;5;241m1\u001b[39m)\n\u001b[1;32m      9\u001b[0m \u001b[38;5;28;01mwith\u001b[39;00m \u001b[38;5;28mopen\u001b[39m(\u001b[38;5;124m'\u001b[39m\u001b[38;5;124mCKDModel_pickle\u001b[39m\u001b[38;5;124m'\u001b[39m, \u001b[38;5;124m'\u001b[39m\u001b[38;5;124mrb\u001b[39m\u001b[38;5;124m'\u001b[39m) \u001b[38;5;28;01mas\u001b[39;00m f:\n\u001b[0;32m---> 10\u001b[0m     model \u001b[38;5;241m=\u001b[39m \u001b[43mpickle\u001b[49m\u001b[38;5;241;43m.\u001b[39;49m\u001b[43mload\u001b[49m\u001b[43m(\u001b[49m\u001b[43mf\u001b[49m\u001b[43m)\u001b[49m\n\u001b[1;32m     11\u001b[0m \u001b[38;5;66;03m#model.load_state_dict(torch.load('Users/damangarg/Documents/VS_Code/AI/CKDscreening', map_location=torch.device('cpu'),Model_pickle='one_lead_weights.pt'))\u001b[39;00m\n\u001b[1;32m     13\u001b[0m model\u001b[38;5;241m.\u001b[39mload_state_dict(torch\u001b[38;5;241m.\u001b[39mload(base\u001b[38;5;241m+\u001b[39m\u001b[38;5;124m'\u001b[39m\u001b[38;5;124mone_lead_weights.pt\u001b[39m\u001b[38;5;124m'\u001b[39m))\n",
      "\u001b[0;31mAttributeError\u001b[0m: Can't get attribute 'Mayo_Net_mortality' on <module '__main__'>"
     ]
    }
   ],
   "source": [
    "all_labels, all_preds = test_model(one_lead=True)\n",
    "fpr, tpr, thresholds = sklearn.metrics.roc_curve(all_labels, all_preds) \n",
    "print(' ')\n",
    "print('One-Lead Model')\n",
    "print(sklearn.metrics.auc(fpr, tpr))\n",
    "\n",
    "twelve_labels, twelve_preds = test_model(one_lead=False)\n",
    "fpr, tpr, thresholds = sklearn.metrics.roc_curve(twelve_labels, twelve_preds)\n",
    "print(' ')\n",
    "print('Twelve-Lead Model')\n",
    "print(sklearn.metrics.auc(fpr, tpr))\n",
    "\n",
    "results = pd.DataFrame({'one_lead_predictions':all_preds, 'one_lead_labels':all_labels, \n",
    "                       'twelve_lead_predictions':twelve_preds, 'twelve_lead_labels':twelve_labels})\n",
    "results.to_csv('results.csv')"
   ]
  }
 ],
 "metadata": {
  "kernelspec": {
   "display_name": "DL",
   "language": "python",
   "name": "python3"
  },
  "language_info": {
   "codemirror_mode": {
    "name": "ipython",
    "version": 3
   },
   "file_extension": ".py",
   "mimetype": "text/x-python",
   "name": "python",
   "nbconvert_exporter": "python",
   "pygments_lexer": "ipython3",
   "version": "3.11.8"
  }
 },
 "nbformat": 4,
 "nbformat_minor": 2
}
